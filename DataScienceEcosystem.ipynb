{
 "cells": [
  {
   "cell_type": "markdown",
   "id": "fe7ed84c",
   "metadata": {},
   "source": [
    "# Data Science Tools and Ecosystem"
   ]
  },
  {
   "cell_type": "markdown",
   "id": "96260726",
   "metadata": {},
   "source": [
    "In this notebook, Data Science Tools and Ecosystem are summarized."
   ]
  },
  {
   "cell_type": "markdown",
   "id": "fe123008",
   "metadata": {},
   "source": [
    "**Objectives:**\n",
    "\n",
    "- List popular languages for Data Science\n",
    "- Introduce commonly used libraries in Data Science\n",
    "- Discuss the key tools in the Data Science ecosystem\n",
    "- Demonstrate basic arithmetic operations in Python\n",
    "- Convert units of time from minutes to hours\n"
   ]
  },
  {
   "cell_type": "markdown",
   "id": "5a85278a",
   "metadata": {},
   "source": [
    "Some of the popular languages that Data Scientists use are:"
   ]
  },
  {
   "cell_type": "code",
   "execution_count": 1,
   "id": "03adc202",
   "metadata": {},
   "outputs": [
    {
     "name": "stdout",
     "output_type": "stream",
     "text": [
      "1. Python\n",
      "2. R\n",
      "3. SQL\n",
      "4. Java\n",
      "5. Julia\n"
     ]
    }
   ],
   "source": [
    "# List of commonly used languages for data science\n",
    "data_science_languages = [\"Python\", \"R\", \"SQL\", \"Java\", \"Julia\"]\n",
    "\n",
    "# Printing the list\n",
    "for index, language in enumerate(data_science_languages, start=1):\n",
    "    print(f\"{index}. {language}\")\n"
   ]
  },
  {
   "cell_type": "markdown",
   "id": "9a22e564",
   "metadata": {},
   "source": [
    "Some of the commonly used libraries used by Data Scientists include:"
   ]
  },
  {
   "cell_type": "code",
   "execution_count": 2,
   "id": "3c3b7805",
   "metadata": {},
   "outputs": [
    {
     "name": "stdout",
     "output_type": "stream",
     "text": [
      "1.Pandas (Python)\n",
      "2.NumPy (Python)\n",
      "3.Scikit-Learn (Python)\n",
      "4.ggplot2 (R)\n",
      "5.TensorFlow (Python)\n",
      "6.Keras (Python)\n",
      "7.dplyr (R)\n"
     ]
    }
   ],
   "source": [
    "# List of commonly used libraries for data science\n",
    "data_science_libraries = [\n",
    "    \"Pandas (Python)\", \n",
    "    \"NumPy (Python)\", \n",
    "    \"Scikit-Learn (Python)\", \n",
    "    \"ggplot2 (R)\", \n",
    "    \"TensorFlow (Python)\", \n",
    "    \"Keras (Python)\", \n",
    "    \"dplyr (R)\"\n",
    "]\n",
    "\n",
    "# Printing the list \n",
    "for index, library in enumerate(data_science_libraries, start=1):\n",
    "    print(f\"{index}.{library}\") "
   ]
  },
  {
   "cell_type": "markdown",
   "id": "5f40aa26",
   "metadata": {},
   "source": [
    "| Data Science Tools |\n",
    "|--------------------|\n",
    "| Jupyter Notebook   |\n",
    "| RStudio            |\n",
    "| Apache Zeppelin    |\n"
   ]
  },
  {
   "cell_type": "markdown",
   "id": "2cf04406",
   "metadata": {},
   "source": [
    "### Below are a few examples of evaluating arithmetic expressions in Python\n"
   ]
  },
  {
   "cell_type": "code",
   "execution_count": 4,
   "id": "a9894a00",
   "metadata": {},
   "outputs": [
    {
     "data": {
      "text/plain": [
       "17"
      ]
     },
     "execution_count": 4,
     "metadata": {},
     "output_type": "execute_result"
    }
   ],
   "source": [
    "# This is a simple arithmetic expression to multiply then add integers\n",
    "(3 * 4) + 5"
   ]
  },
  {
   "cell_type": "code",
   "execution_count": 5,
   "id": "9d2adb83",
   "metadata": {},
   "outputs": [
    {
     "data": {
      "text/plain": [
       "3.3333333333333335"
      ]
     },
     "execution_count": 5,
     "metadata": {},
     "output_type": "execute_result"
    }
   ],
   "source": [
    "# This will convert 200 minutes to hours by dividing by 60\n",
    "200 / 60"
   ]
  },
  {
   "cell_type": "markdown",
   "id": "f1d4bd67",
   "metadata": {},
   "source": [
    "## Author\n",
    "Adriana Lozano"
   ]
  }
 ],
 "metadata": {
  "kernelspec": {
   "display_name": "Python 3 (ipykernel)",
   "language": "python",
   "name": "python3"
  },
  "language_info": {
   "codemirror_mode": {
    "name": "ipython",
    "version": 3
   },
   "file_extension": ".py",
   "mimetype": "text/x-python",
   "name": "python",
   "nbconvert_exporter": "python",
   "pygments_lexer": "ipython3",
   "version": "3.9.12"
  }
 },
 "nbformat": 4,
 "nbformat_minor": 5
}
